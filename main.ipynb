{
 "cells": [
  {
   "cell_type": "code",
   "execution_count": 12,
   "id": "72c6028c",
   "metadata": {},
   "outputs": [],
   "source": [
    "import pandas as pd\n",
    "from sklearn.ensemble import RandomForestClassifier"
   ]
  },
  {
   "cell_type": "markdown",
   "id": "c8551c6b",
   "metadata": {},
   "source": [
    "### Importing both of the datasets"
   ]
  },
  {
   "cell_type": "code",
   "execution_count": 3,
   "id": "03a7062a",
   "metadata": {},
   "outputs": [],
   "source": [
    "testdb = pd.read_csv(\"test.csv\")\n",
    "traindb = pd.read_csv(\"train.csv\")"
   ]
  },
  {
   "cell_type": "markdown",
   "id": "6a8b6b6b",
   "metadata": {},
   "source": [
    "### Simple survive rate, based on gender"
   ]
  },
  {
   "cell_type": "code",
   "execution_count": 11,
   "id": "f541028e",
   "metadata": {},
   "outputs": [
    {
     "name": "stdout",
     "output_type": "stream",
     "text": [
      "the % rate of women surviving: 74.20382165605095\n"
     ]
    }
   ],
   "source": [
    "women = traindb.loc[traindb.Sex == 'female']['Survived']\n",
    "rate_women = sum(women) / len(women)\n",
    "\n",
    "print(f'the % rate of women surviving: {rate_women * 100}')"
   ]
  },
  {
   "cell_type": "code",
   "execution_count": 10,
   "id": "630fa560",
   "metadata": {},
   "outputs": [
    {
     "name": "stdout",
     "output_type": "stream",
     "text": [
      "the % of rate of men that surviving: 18.890814558058924\n"
     ]
    }
   ],
   "source": [
    "men = traindb.loc[traindb.Sex == 'male']['Survived']\n",
    "rate_men = sum(men) / len(men)\n",
    "\n",
    "print(f'the % of rate of men that surviving: {rate_men * 100}')"
   ]
  },
  {
   "cell_type": "markdown",
   "id": "6bcbc6ab",
   "metadata": {},
   "source": [
    "### Random Forest Model to predict important variables"
   ]
  },
  {
   "cell_type": "code",
   "execution_count": 13,
   "id": "1c8a33d8",
   "metadata": {},
   "outputs": [
    {
     "name": "stdout",
     "output_type": "stream",
     "text": [
      "Your submission was successfully saved!\n"
     ]
    }
   ],
   "source": [
    "y = traindb['Survived']\n",
    "\n",
    "features = ['Pclass', 'Sex', 'SibSp', 'Parch']\n",
    "X = pd.get_dummies(traindb[features])\n",
    "X_test = pd.get_dummies(testdb[features])\n",
    "\n",
    "model = RandomForestClassifier(n_estimators=100, max_depth=5, random_state=1)\n",
    "model.fit(X,y)\n",
    "predictions = model.predict(X_test)\n",
    "\n",
    "output = pd.DataFrame({'PassengerId' : testdb.PassengerId, 'Survived' : predictions})\n",
    "output.to_csv('submission.csv', index =False)\n",
    "print(\"Your submission was successfully saved!\")\n"
   ]
  },
  {
   "cell_type": "code",
   "execution_count": null,
   "id": "1b3a5403",
   "metadata": {},
   "outputs": [],
   "source": []
  }
 ],
 "metadata": {
  "kernelspec": {
   "display_name": "Python 3",
   "language": "python",
   "name": "python3"
  },
  "language_info": {
   "codemirror_mode": {
    "name": "ipython",
    "version": 3
   },
   "file_extension": ".py",
   "mimetype": "text/x-python",
   "name": "python",
   "nbconvert_exporter": "python",
   "pygments_lexer": "ipython3",
   "version": "3.13.1"
  }
 },
 "nbformat": 4,
 "nbformat_minor": 5
}
